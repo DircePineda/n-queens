{
 "cells": [
  {
   "cell_type": "code",
   "execution_count": 1,
   "id": "c689d152",
   "metadata": {
    "_cell_guid": "b1076dfc-b9ad-4769-8c92-a6c4dae69d19",
    "_uuid": "8f2839f25d086af736a60e9eeb907d3b93b6e0e5",
    "execution": {
     "iopub.execute_input": "2023-10-10T01:15:37.877835Z",
     "iopub.status.busy": "2023-10-10T01:15:37.876622Z",
     "iopub.status.idle": "2023-10-10T01:15:39.605168Z",
     "shell.execute_reply": "2023-10-10T01:15:39.603884Z"
    },
    "papermill": {
     "duration": 1.734859,
     "end_time": "2023-10-10T01:15:39.607590",
     "exception": false,
     "start_time": "2023-10-10T01:15:37.872731",
     "status": "completed"
    },
    "tags": []
   },
   "outputs": [],
   "source": [
    "import numpy as np\n",
    "import matplotlib.pyplot as plt\n",
    "from sklearn.model_selection import train_test_split\n",
    "from sklearn.neighbors import KNeighborsRegressor\n",
    "from sklearn.metrics import mean_squared_error, r2_score\n",
    "\n",
    "# Data array\n",
    "X = np.array([8, 9, 10, 11, 12, 13, 14, 15, 16, 17, 18, 19, 20, 21, 22, 23, 24, 25, 26, 27])\n",
    "y = np.array([92, 352, 724, 2680, 14200, 73712, 365596, 2279184, 14772512, 95815104, 666090624,\n",
    "              4968057848, 39029188884, 314666222712, 2691008701644, 24233937684440, 227514171973736,\n",
    "              2207893435808350, 22317699616364000, 234907967154122000])\n",
    "\n",
    "# Reshape X to 2D array\n",
    "X = X.reshape(-1, 1)\n",
    "\n",
    "# Split data: training & testing sets\n",
    "X_train, X_test, y_train, y_test = train_test_split(X, y, test_size=0.2, random_state=42)\n",
    "\n",
    "# Create & train KNN regression model\n",
    "k = 5  # Number of neighbors to consider\n",
    "model = KNeighborsRegressor(n_neighbors=k)\n",
    "model.fit(X_train, y_train)\n",
    "\n",
    "# Predictions on test set\n",
    "y_pred = model.predict(X_test)\n",
    "\n",
    "# Evaluate model\n",
    "mse = mean_squared_error(y_test, y_pred)\n",
    "r2 = r2_score(y_test, y_pred)"
   ]
  },
  {
   "cell_type": "code",
   "execution_count": 2,
   "id": "9bc556e0",
   "metadata": {
    "execution": {
     "iopub.execute_input": "2023-10-10T01:15:39.612403Z",
     "iopub.status.busy": "2023-10-10T01:15:39.611942Z",
     "iopub.status.idle": "2023-10-10T01:15:39.619676Z",
     "shell.execute_reply": "2023-10-10T01:15:39.618580Z"
    },
    "papermill": {
     "duration": 0.014062,
     "end_time": "2023-10-10T01:15:39.623401",
     "exception": false,
     "start_time": "2023-10-10T01:15:39.609339",
     "status": "completed"
    },
    "tags": []
   },
   "outputs": [
    {
     "name": "stdout",
     "output_type": "stream",
     "text": [
      "Prediction for X=28: 5.149123732347682e+16\n",
      "Prediction for X=29: 5.149123732347682e+16\n",
      "Prediction for X=30: 5.149123732347682e+16\n"
     ]
    }
   ],
   "source": [
    "# Values to predict\n",
    "new_values = np.array([28, 29, 30]).reshape(-1, 1)\n",
    "\n",
    "# Use the trained KNN model to make predictions\n",
    "predictions = model.predict(new_values)\n",
    "\n",
    "# Print the predictions\n",
    "for value, prediction in zip(new_values.flatten(), predictions):\n",
    "    print(f\"Prediction for X={value}: {prediction}\")"
   ]
  }
 ],
 "metadata": {
  "kernelspec": {
   "display_name": "Python 3",
   "language": "python",
   "name": "python3"
  },
  "language_info": {
   "codemirror_mode": {
    "name": "ipython",
    "version": 3
   },
   "file_extension": ".py",
   "mimetype": "text/x-python",
   "name": "python",
   "nbconvert_exporter": "python",
   "pygments_lexer": "ipython3",
   "version": "3.10.12"
  },
  "papermill": {
   "default_parameters": {},
   "duration": 5.507524,
   "end_time": "2023-10-10T01:15:40.145302",
   "environment_variables": {},
   "exception": null,
   "input_path": "__notebook__.ipynb",
   "output_path": "__notebook__.ipynb",
   "parameters": {},
   "start_time": "2023-10-10T01:15:34.637778",
   "version": "2.4.0"
  }
 },
 "nbformat": 4,
 "nbformat_minor": 5
}
